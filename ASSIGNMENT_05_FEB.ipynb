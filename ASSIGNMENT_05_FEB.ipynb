{
 "cells": [
  {
   "cell_type": "code",
   "execution_count": 1,
   "id": "63bd8271-8b46-43e9-8848-4d4d7b4394c5",
   "metadata": {},
   "outputs": [],
   "source": [
    "##  Q1. Explain Class and Object with respect to Object-Oriented Programming. Give a suitable example."
   ]
  },
  {
   "cell_type": "markdown",
   "id": "f9eb6256-4ce2-4f20-b8cd-db5a4618bbf1",
   "metadata": {},
   "source": [
    "ANS In object-oriented programming (OOP), a class is a blueprint or a template that defines a set of attributes and behaviors that an object of that class should possess. An object, on the other hand, is an instance of a class. It is a unique entity that has its own set of attributes and can perform actions defined by the class.\n",
    "\n",
    "In Python, we define a class using the class keyword. Here's an example of a Person class:"
   ]
  },
  {
   "cell_type": "code",
   "execution_count": 5,
   "id": "f5ff7f66-e2d1-460a-b4bd-02e7a8f8e087",
   "metadata": {},
   "outputs": [],
   "source": [
    "class Person:\n",
    "    def __init__(self, name, age):\n",
    "        self.name = name\n",
    "        self.age = age\n",
    "\n",
    "    def greet(self):\n",
    "        print(f\"Hello, my name is {self.name} and I'm {self.age} years old.\")"
   ]
  },
  {
   "cell_type": "markdown",
   "id": "284f28c8-638c-4e9c-84ef-623788cafd50",
   "metadata": {},
   "source": [
    "In this example, the Person class has two attributes: name and age. It also has a method called greet() that prints a message introducing the person.\n",
    "\n",
    "To create an object of the Person class, we use the class name followed by parentheses:"
   ]
  },
  {
   "cell_type": "code",
   "execution_count": 7,
   "id": "1033141b-1411-4192-bc7b-bf3b07e0287c",
   "metadata": {},
   "outputs": [],
   "source": [
    "person1 = Person(\"Uvais\", 25)"
   ]
  },
  {
   "cell_type": "markdown",
   "id": "efa57c2d-712f-47ad-b4ff-cc21e51cec1b",
   "metadata": {},
   "source": [
    "This creates a Person object named person1 with name set to \"Alice\" and age set to 25. We can then call the greet() method on this object:"
   ]
  },
  {
   "cell_type": "code",
   "execution_count": 8,
   "id": "1feae45e-8bed-4536-9366-82e300541d38",
   "metadata": {},
   "outputs": [
    {
     "name": "stdout",
     "output_type": "stream",
     "text": [
      "Hello, my name is Uvais and I'm 25 years old.\n"
     ]
    }
   ],
   "source": [
    "person1.greet()"
   ]
  },
  {
   "cell_type": "code",
   "execution_count": 9,
   "id": "20d6427e-6aa5-424e-8370-94965b907bc5",
   "metadata": {},
   "outputs": [],
   "source": [
    "## Q2. Name the four pillars of OOPs."
   ]
  },
  {
   "cell_type": "markdown",
   "id": "3221258d-4869-410e-ac28-067b1c192765",
   "metadata": {},
   "source": [
    "ANS=The four pillars of object-oriented programming (OOP) are:\n",
    "\n",
    "Encapsulation:- \n",
    "\n",
    "Encapsulation is the process of binding data and methods that operate on that data within a single unit, called a class. This helps in achieving data hiding, abstraction, and information hiding.\n",
    "\n",
    "Inheritance:-\n",
    "\n",
    "Inheritance is the process by which one class acquires the properties (methods and attributes) of another class. This allows for code reuse, reduces code duplication, and promotes code organization.\n",
    "\n",
    "Polymorphism:-\n",
    "\n",
    "Polymorphism refers to the ability of objects of different classes to be used interchangeably. It is the ability to present the same interface for different data types. Polymorphism is achieved through method overloading and method overriding.\n",
    "\n",
    "Abstraction:-\n",
    "\n",
    "Abstraction is the process of hiding the implementation details of an object and only exposing the necessary information or interface to the user. This helps in achieving modularity, loose coupling, and easy maintenance of code."
   ]
  },
  {
   "cell_type": "code",
   "execution_count": 10,
   "id": "0ebbcc69-493a-4c4b-9090-35fe149e161b",
   "metadata": {},
   "outputs": [],
   "source": [
    "## Q3. Explain why the __init__() function is used. Give a suitable example"
   ]
  },
  {
   "cell_type": "markdown",
   "id": "b2e1a068-8ce4-4b97-b9a3-1fb5105c58e1",
   "metadata": {},
   "source": [
    "ANS = In object-oriented programming (OOP), the __init__() function is a special method that is called when an object of a class is created. It is used to initialize the attributes of the object with some initial values.\n",
    "\n",
    "The __init__() method is used to perform any necessary setup for an object before it is used. This method can take arguments to set the initial values of the attributes of the object. It is also used to create new attributes for an object.\n",
    "\n",
    "Here's an example to demonstrate the use of the __init__() method in Python:"
   ]
  },
  {
   "cell_type": "code",
   "execution_count": 11,
   "id": "e95d844b-d072-4149-b714-4baf6019ef87",
   "metadata": {},
   "outputs": [
    {
     "name": "stdout",
     "output_type": "stream",
     "text": [
      "50\n"
     ]
    }
   ],
   "source": [
    "class Rectangle:\n",
    "    def __init__(self, width, height):\n",
    "        self.width = width\n",
    "        self.height = height\n",
    "\n",
    "    def area(self):\n",
    "        return self.width * self.height\n",
    "\n",
    "rectangle1 = Rectangle(10, 5)\n",
    "print(rectangle1.area())"
   ]
  },
  {
   "cell_type": "markdown",
   "id": "ebab4770-7d1f-4ef8-ba2e-f593c2fd49b9",
   "metadata": {},
   "source": [
    "ANS = In this example, the Rectangle class has two attributes: width and \n",
    "\n",
    "\n",
    "height. The init()method takes two argumentswidthandheightand sets them as the initial values for thewidthandheight attributes of the object.\n",
    "\n",
    "The area() method calculates the area of the rectangle by multiplying the width and height attributes of the object.\n",
    "\n",
    "To create an object of the Rectangle class, we pass the values 10 and 5 as arguments to the constructor __init__(), which initializes the width and height attributes of the object with those values.\n",
    "\n",
    "We then call the area() method on the rectangle1 object, which returns the area of the rectangle, 50.\n",
    "\n",
    "In this example, the __init__() method is used to initialize the attributes of the Rectangle object with some initial values. Without the __init__() method, we would have to manually set the values of the attributes every time we create a new object of the Rectangle class."
   ]
  },
  {
   "cell_type": "code",
   "execution_count": 1,
   "id": "8170b48d-c832-44a5-b87c-629dd60e9776",
   "metadata": {},
   "outputs": [],
   "source": [
    "##Q4. Why self is used in OOPs?"
   ]
  },
  {
   "cell_type": "markdown",
   "id": "95b3b83b-fd95-464e-8de2-3c71e4a91f3e",
   "metadata": {},
   "source": [
    "ANS = In Object-Oriented Programming (OOP), the self keyword is used to refer to the current instance of a class. It allows an instance of a class to refer to its own properties and methods.\n",
    "\n",
    "In Python, for example, the first parameter of a class method is usually named \"self\" by convention. When a method is called on an instance of the class, the instance is automatically passed as the first argument to the method, and is accessible using the \"self\" parameter inside the method.\n",
    "\n",
    "Here is an example to illustrate the usage of the self keyword in Python:"
   ]
  },
  {
   "cell_type": "code",
   "execution_count": 2,
   "id": "344d01ac-dfc0-4735-8c0d-ee5374c02b11",
   "metadata": {},
   "outputs": [
    {
     "name": "stdout",
     "output_type": "stream",
     "text": [
      "My name is UVAIS and I am 25 years old.\n"
     ]
    }
   ],
   "source": [
    "class Person:\n",
    "    def __init__(self, name, age):\n",
    "        self.name = name\n",
    "        self.age = age\n",
    "\n",
    "    def introduce(self):\n",
    "        print(\"My name is\", self.name, \"and I am\", self.age, \"years old.\")\n",
    "\n",
    "# create an instance of the Person class\n",
    "p1 = Person(\"UVAIS\", 25)\n",
    "\n",
    "# call the introduce method on the instance\n",
    "p1.introduce()\n"
   ]
  },
  {
   "cell_type": "markdown",
   "id": "a507959a-25bf-44a0-acf2-81c2a900e68f",
   "metadata": {},
   "source": [
    "In this example, \"self.name\" and \"self.age\" are instance variables that store the name and age of the person. The \"self\" keyword is used to refer to these variables inside the \"introduce\" method.\n",
    "\n",
    "Using the self keyword allows different instances of a class to have their own separate data and behavior, even if they share the same class definition. This is one of the key concepts of OOP: encapsulation, which allows for modular and reusable code."
   ]
  },
  {
   "cell_type": "code",
   "execution_count": 3,
   "id": "155951b3-ace0-4c29-a19f-a48938f545d2",
   "metadata": {},
   "outputs": [],
   "source": [
    "##  Q5. What is inheritance? Give an example for each type of inheritance."
   ]
  },
  {
   "cell_type": "markdown",
   "id": "08b2c191-83fd-458a-98e2-f548826b8505",
   "metadata": {},
   "source": [
    "ANS =Inheritance is one of the key concepts of object-oriented programming (OOP) that allows a class to inherit properties and methods from another class. The class that inherits from another class is called the subclass or derived class, while the class being inherited from is called the superclass or base class.\n",
    "\n",
    "There are several types of inheritance:\n",
    "\n",
    "1 . Single inheritance: When a subclass inherits from only one superclass.\n",
    "Example:\n",
    "In this example, the Dog class inherits the \"eat\" method from the Animal class using single inheritance. The Dog class also has its own \"bark\" method."
   ]
  },
  {
   "cell_type": "code",
   "execution_count": 6,
   "id": "f6fb8b90-2dbc-4814-b39c-c022629192d4",
   "metadata": {},
   "outputs": [
    {
     "name": "stdout",
     "output_type": "stream",
     "text": [
      "I am eating...\n",
      "Woof!\n"
     ]
    }
   ],
   "source": [
    "class Animal:\n",
    "    def eat(self):\n",
    "        print(\"I am eating...\")\n",
    "\n",
    "class Dog(Animal):\n",
    "    def bark(self):\n",
    "        print(\"Woof!\")\n",
    "\n",
    "d = Dog()\n",
    "d.eat()  \n",
    "d.bark()\n"
   ]
  },
  {
   "cell_type": "markdown",
   "id": "991fc6b0-75a6-4a9e-a18b-a95c8839acfa",
   "metadata": {},
   "source": [
    "2 .Multiple inheritance: When a subclass inherits from more than one superclass.\n",
    "Example:"
   ]
  },
  {
   "cell_type": "code",
   "execution_count": 9,
   "id": "6974dd6d-afe4-4fca-b0c9-0f99e8049056",
   "metadata": {},
   "outputs": [
    {
     "name": "stdout",
     "output_type": "stream",
     "text": [
      "I am nursing...\n",
      "I am flying...\n"
     ]
    }
   ],
   "source": [
    "class Mammal:\n",
    "    def nurse(self):\n",
    "        print(\"I am nursing...\")\n",
    "\n",
    "class Flyer:\n",
    "    def fly(self):\n",
    "        print(\"I am flying...\")\n",
    "\n",
    "class Bat(Mammal, Flyer):\n",
    "    pass\n",
    "\n",
    "b = Bat()\n",
    "b.nurse()  \n",
    "b.fly()    \n"
   ]
  },
  {
   "cell_type": "markdown",
   "id": "0e6f6dd2-a99c-44b4-9fea-0848a1f48606",
   "metadata": {},
   "source": [
    "In this example, the Bat class inherits from both the Mammal and Flyer classes using multiple inheritance. The Bat class does not define any methods of its own, but it inherits the \"nurse\" method from the Mammal class and the \"fly\" method from the Flyer class."
   ]
  },
  {
   "cell_type": "markdown",
   "id": "05a58c65-9c48-4fa5-8fcf-d9c5ac63b9c7",
   "metadata": {},
   "source": [
    "3 .Multilevel inheritance: When a subclass inherits from a superclass, which in turn inherits from another superclass.\n",
    "Example:"
   ]
  },
  {
   "cell_type": "code",
   "execution_count": 11,
   "id": "c414b061-6742-425b-82db-65a0868230c0",
   "metadata": {},
   "outputs": [
    {
     "name": "stdout",
     "output_type": "stream",
     "text": [
      "I am eating...\n",
      "I am nursing...\n",
      "I am flying...\n"
     ]
    }
   ],
   "source": [
    "class Animal:\n",
    "    def eat(self):\n",
    "        print(\"I am eating...\")\n",
    "\n",
    "class Mammal(Animal):\n",
    "    def nurse(self):\n",
    "        print(\"I am nursing...\")\n",
    "\n",
    "class Bat(Mammal):\n",
    "    def fly(self):\n",
    "        print(\"I am flying...\")\n",
    "\n",
    "b = Bat()\n",
    "b.eat()    \n",
    "b.nurse()  \n",
    "b.fly()\n"
   ]
  },
  {
   "cell_type": "markdown",
   "id": "b9710ce3-8e37-4a08-bac2-0948b9b66c54",
   "metadata": {},
   "source": [
    "In this example, the Bat class inherits from the Mammal class, which in turn inherits from the Animal class. The Bat class inherits the \"eat\" method from the Animal class, the \"nurse\" method from the Mammal class, and defines its own \"fly\" method."
   ]
  },
  {
   "cell_type": "markdown",
   "id": "b03dd8bf-d4be-4c72-84ce-4a3b1a34bf98",
   "metadata": {},
   "source": [
    "4 .Hierarchical inheritance: When multiple subclasses inherit from the same superclass.\n",
    "Example:"
   ]
  },
  {
   "cell_type": "code",
   "execution_count": 13,
   "id": "ea09ad5b-51df-42c3-b70b-3ef45572cb2c",
   "metadata": {},
   "outputs": [
    {
     "name": "stdout",
     "output_type": "stream",
     "text": [
      "I am driving...\n",
      "I am parking...\n",
      "I am driving...\n",
      "I am loading...\n"
     ]
    }
   ],
   "source": [
    "class Vehicle:\n",
    "    def drive(self):\n",
    "        print(\"I am driving...\")\n",
    "\n",
    "class Car(Vehicle):\n",
    "    def park(self):\n",
    "        print(\"I am parking...\")\n",
    "\n",
    "class Truck(Vehicle):\n",
    "    def load(self):\n",
    "        print(\"I am loading...\")\n",
    "\n",
    "c = Car()\n",
    "c.drive()  \n",
    "c.park()\n",
    "\n",
    "t = Truck()\n",
    "t.drive() \n",
    "t.load()\n"
   ]
  },
  {
   "cell_type": "markdown",
   "id": "4dbc7749-7b98-478a-a2e0-26d089ff14cf",
   "metadata": {},
   "source": [
    "In this example, both the Car and Truck classes inherit from the Vehicle class using hierarchical inheritance. The Car class defines its own \"park\" method, while the Truck class defines its own \"load\" method. Both the Car and Truck classes inherit the \"drive\" method from the Vehicle class."
   ]
  },
  {
   "cell_type": "code",
   "execution_count": null,
   "id": "dab88193-b230-4dd2-b55a-61dbf3fe72ac",
   "metadata": {},
   "outputs": [],
   "source": []
  }
 ],
 "metadata": {
  "kernelspec": {
   "display_name": "Python 3 (ipykernel)",
   "language": "python",
   "name": "python3"
  },
  "language_info": {
   "codemirror_mode": {
    "name": "ipython",
    "version": 3
   },
   "file_extension": ".py",
   "mimetype": "text/x-python",
   "name": "python",
   "nbconvert_exporter": "python",
   "pygments_lexer": "ipython3",
   "version": "3.10.8"
  }
 },
 "nbformat": 4,
 "nbformat_minor": 5
}
